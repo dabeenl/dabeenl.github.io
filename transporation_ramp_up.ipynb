{
 "cells": [
  {
   "cell_type": "markdown",
   "metadata": {},
   "source": [
    "## Transportation problem with ramp-up costs"
   ]
  },
  {
   "cell_type": "markdown",
   "metadata": {},
   "source": [
    "### Model parameters\n",
    "* $P$: the set of production plants. \n",
    "* $R$: the set of retailers.\n",
    "* $p_i$: the production capacity of plant $i\\in P$.\n",
    "* $r_j$: the demand of retailer $j\\in R$.\n",
    "* $f_i$: operating plant $i$ incurs a fixed ramp-up cost $f_i$.\n",
    "* $c_{ij}$: transhipping one unit from plant $i$ to retailer $j$ incurs transportation cost $c_{ij}$."
   ]
  },
  {
   "cell_type": "markdown",
   "metadata": {},
   "source": [
    "### Model components\n",
    "#### Decisions:\n",
    "We use variable $x_{ij}$ to decode the amount of goods from plant $i$ to retailer $j$.\n",
    "\n",
    "We use variable $y_i$ to indicate whether plant $i$ is operation:\n",
    "$$y_i = \\begin{cases} 1,\\quad &\\text{if plant $i$ is in operation},\\\\\n",
    "0,\\quad &\\text{otherwise}.\n",
    "\\end{cases}$$\n",
    "\n",
    "Here, $x_{ij}\\geq 0$ and $y_i\\in\\{0,1\\}$ for $i\\in P$ and $j\\in R$.\n",
    "\n",
    "#### Objective:\n",
    "We want to minimize the total cost, which consists of the transportation cost and the ramp-up costs of plants.\n",
    "\n",
    "$$\\min\\quad \\sum_{i\\in P} f_i y_i + \\sum_{(i,j)\\in A} c_{ij}x_{ij}$$\n",
    "\n",
    "#### Supply constraints:\n",
    "The production capacity of plant $i$ is $p_i$. \n",
    "\n",
    "$$\\sum_{j: (i,j)\\in A} x_{ij} \\leq p_i y_i.$$\n",
    "\n",
    "#### Demand constraints:\n",
    "The demand of retailer $j$ is $r_j$.\n",
    "\n",
    "$$\\sum_{i: (i,j)\\in A} x_{ij}\\geq r_j.$$"
   ]
  },
  {
   "cell_type": "markdown",
   "metadata": {},
   "source": [
    "### The integer programming model\n",
    "\n",
    "\\begin{align*}\n",
    "\\min\\quad &\\sum_{i\\in P} f_i y_i + \\sum_{(i,j)\\in A} c_{ij}x_{ij}\\\\\n",
    "\\text{s.t.}\\quad & \\sum_{j: (i,j)\\in A} x_{ij} \\leq p_i y_i,\\quad i\\in P\\\\\n",
    "&\\sum_{i: (i,j)\\in A} x_{ij}\\geq r_j,\\quad j\\in R\\\\\n",
    "&x_{ij}\\geq 0,\\ y_i\\in\\{0,1\\},\\quad i\\in P,\\ j\\in R\n",
    "\\end{align*}"
   ]
  },
  {
   "cell_type": "markdown",
   "metadata": {},
   "source": [
    "### Locations\n",
    "\n",
    "This example considers two plants and nine retailer. \n",
    "\n",
    "The coordinates of each plant are provided in the following table.\n",
    "The following table shows the coordinates of the plant locations and the fixed ramp-up cost of operating the plant.\n",
    "\n",
    "| <i></i> | Coordinates |  Ramp-up costs |  Production capacities |\n",
    "| --- | --- | --- | --- |\n",
    "| Plant 1 | (0,1.5) | 5 | 60 |\n",
    "| Plant 2 | (2.5,1.2) | 100 | 60 |\n",
    "| Plant 3 | (1.7, 2.3) | 3 | 60 |\n",
    "| Plant 4 | (0.7, 1.8) | 9 | 60 |\n",
    "\n",
    "The coordinates of the retailers are provided in the following table.\n",
    "\n",
    "| <i></i> | coordinates | Demands |\n",
    "| --- | --- |  --- |\n",
    "| Retailer 1 | (0,0) | 20 |\n",
    "| Retailer 2 | (0,1) | 20 | \n",
    "| Retailer 3 | (0,2) | 20 | \n",
    "| Retailer 4 | (1,0) | 20 | \n",
    "| Retailer 5 | (1,1) | 20 |  \n",
    "| Retailer 6 | (1,2) | 20 | \n",
    "| Retailer 7 | (2,0) | 20 | \n",
    "| Retailer 8 | (2,1) | 20 |   \n",
    "| Retailer 9 | (2,2) | 20 | "
   ]
  },
  {
   "cell_type": "markdown",
   "metadata": {},
   "source": [
    "### Code to build the optimization model"
   ]
  },
  {
   "cell_type": "code",
   "execution_count": 4,
   "metadata": {},
   "outputs": [],
   "source": [
    "from itertools import product\n",
    "from math import sqrt\n",
    "\n",
    "import gurobipy as gp\n",
    "from gurobipy import GRB\n",
    "\n",
    "# tested with Gurobi v9.1.0 and Python 3.7.0\n",
    "\n",
    "# Parameters\n",
    "plants = [(0,1.5), (2.5,1.2), (1.7,2.3), (0.7, 1.8)]\n",
    "retailers = [(0,0), (0,1), (0,2), (1,0), (1,1), (1,2), (2,0), (2,1), (2,2)]\n",
    "ramp_up_cost = [5, 100, 3, 9]\n",
    "production_capacities = [60, 60, 60, 60]\n",
    "demands = [20, 20, 20, 20, 20, 20, 20, 20, 20]\n",
    "cost_per_mile = 1"
   ]
  },
  {
   "cell_type": "code",
   "execution_count": 6,
   "metadata": {},
   "outputs": [],
   "source": [
    "# This function determines the Euclidean distance between a plant and retailer sites.\n",
    "\n",
    "def compute_distance(loc1, loc2):\n",
    "    dx = loc1[0] - loc2[0]\n",
    "    dy = loc1[1] - loc2[1]\n",
    "    return sqrt(dx*dx + dy*dy)\n",
    "\n",
    "# Compute key parameters of MIP model formulation\n",
    "\n",
    "num_plants = len(plants)\n",
    "num_retailers = len(retailers)\n",
    "cartesian_prod = list(product(range(num_plants), range(num_retailers)))\n",
    "\n",
    "# Compute transportation costs\n",
    "\n",
    "transportation_cost = {(i,j): cost_per_mile*compute_distance(plants[i], retailers[j]) for i, j in cartesian_prod}"
   ]
  },
  {
   "cell_type": "code",
   "execution_count": 8,
   "metadata": {},
   "outputs": [
    {
     "name": "stdout",
     "output_type": "stream",
     "text": [
      "Academic license - for non-commercial use only - expires 2024-03-04\n",
      "Using license file /Users/dabeenlee/gurobi.lic\n",
      "Gurobi Optimizer version 9.1.1 build v9.1.1rc0 (mac64)\n",
      "Thread count: 10 physical cores, 10 logical processors, using up to 10 threads\n",
      "Optimize a model with 13 rows, 40 columns and 76 nonzeros\n",
      "Model fingerprint: 0x8f388a9d\n",
      "Variable types: 36 continuous, 4 integer (4 binary)\n",
      "Coefficient statistics:\n",
      "  Matrix range     [1e+00, 6e+01]\n",
      "  Objective range  [4e-01, 1e+02]\n",
      "  Bounds range     [1e+00, 1e+00]\n",
      "  RHS range        [2e+01, 2e+01]\n",
      "Presolve time: 0.00s\n",
      "Presolved: 13 rows, 40 columns, 76 nonzeros\n",
      "Variable types: 36 continuous, 4 integer (4 binary)\n",
      "\n",
      "Root relaxation: objective 2.093539e+02, 14 iterations, 0.00 seconds\n",
      "\n",
      "    Nodes    |    Current Node    |     Objective Bounds      |     Work\n",
      " Expl Unexpl |  Obj  Depth IntInf | Incumbent    BestBd   Gap | It/Node Time\n",
      "\n",
      "*    0     0               0     209.3539487  209.35395  0.00%     -    0s\n",
      "\n",
      "Explored 0 nodes (14 simplex iterations) in 0.02 seconds\n",
      "Thread count was 10 (of 10 available processors)\n",
      "\n",
      "Solution count 1: 209.354 \n",
      "\n",
      "Optimal solution found (tolerance 1.00e-04)\n",
      "Best objective 2.093539487448e+02, best bound 2.093539487448e+02, gap 0.0000%\n"
     ]
    }
   ],
   "source": [
    "# MIP  model formulation\n",
    "\n",
    "m = gp.Model('transportation')\n",
    "\n",
    "plants_operation = m.addVars(num_plants, vtype=GRB.BINARY, name='Plant')\n",
    "transport = m.addVars(cartesian_prod, vtype=GRB.CONTINUOUS, name='Transport')\n",
    "\n",
    "m.addConstrs((gp.quicksum(transport[(i,j)] for j in range(num_retailers)) <= production_capacities[i] * plants_operation[i] for i in range(num_plants)), name='Production')\n",
    "m.addConstrs((gp.quicksum(transport[(i,j)] for i in range(num_plants)) >= demands[j] for j in range(num_retailers)), name='Demand')\n",
    "\n",
    "m.setObjective(plants_operation.prod(ramp_up_cost)+transport.prod(transportation_cost), GRB.MINIMIZE)\n",
    "\n",
    "m.optimize()"
   ]
  },
  {
   "cell_type": "markdown",
   "metadata": {},
   "source": [
    "## Analysis"
   ]
  },
  {
   "cell_type": "code",
   "execution_count": 12,
   "metadata": {},
   "outputs": [
    {
     "name": "stdout",
     "output_type": "stream",
     "text": [
      "\n",
      " Operate a plant at location 1.\n",
      "\n",
      " Operate a plant at location 3.\n",
      "\n",
      " Operate a plant at location 4.\n"
     ]
    }
   ],
   "source": [
    "# display optimal values of decision variables\n",
    "\n",
    "for plant in plants_operation.keys():\n",
    "    if (abs(plants_operation[plant].x) > 1e-6):\n",
    "        print(f\"\\n Operate a plant at location {plant + 1}.\")"
   ]
  },
  {
   "cell_type": "code",
   "execution_count": 15,
   "metadata": {},
   "outputs": [
    {
     "name": "stdout",
     "output_type": "stream",
     "text": [
      "\n",
      " Retailer 1 receives 20.0   from Plant 1 .\n",
      "\n",
      " Retailer 2 receives 20.0   from Plant 1 .\n",
      "\n",
      " Retailer 3 receives 20.0   from Plant 1 .\n",
      "\n",
      " Retailer 7 receives 20.0   from Plant 3 .\n",
      "\n",
      " Retailer 8 receives 20.0   from Plant 3 .\n",
      "\n",
      " Retailer 9 receives 20.0   from Plant 3 .\n",
      "\n",
      " Retailer 4 receives 20.0   from Plant 4 .\n",
      "\n",
      " Retailer 5 receives 20.0   from Plant 4 .\n",
      "\n",
      " Retailer 6 receives 20.0   from Plant 4 .\n"
     ]
    }
   ],
   "source": [
    "# Shipments from plants to retailers.\n",
    "\n",
    "for plant, retailer in transport.keys():\n",
    "    if (abs(transport[plant, retailer].x) > 1e-6):\n",
    "        print(f\"\\n Retailer {retailer + 1} receives {transport[plant, retailer].x}   from Plant {plant + 1} .\")"
   ]
  }
 ],
 "metadata": {
  "kernelspec": {
   "display_name": "Python 3",
   "language": "python",
   "name": "python3"
  },
  "language_info": {
   "codemirror_mode": {
    "name": "ipython",
    "version": 3
   },
   "file_extension": ".py",
   "mimetype": "text/x-python",
   "name": "python",
   "nbconvert_exporter": "python",
   "pygments_lexer": "ipython3",
   "version": "3.8.5"
  }
 },
 "nbformat": 4,
 "nbformat_minor": 4
}
